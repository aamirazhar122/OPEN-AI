{
 "cells": [
  {
   "cell_type": "code",
   "execution_count": 55,
   "metadata": {},
   "outputs": [],
   "source": [
    "\n",
    "from openai import OpenAI\n",
    "from dotenv import load_dotenv, find_dotenv\n",
    "\n",
    "_ : bool = load_dotenv(find_dotenv())\n",
    "\n",
    "client : OpenAI = OpenAI()"
   ]
  },
  {
   "cell_type": "code",
   "execution_count": 56,
   "metadata": {},
   "outputs": [],
   "source": [
    "# Assistant API , Knowledge Retrieval\n",
    "# 1.upload file\n",
    "file = client.files.create(\n",
    "    file = open(\"Muhammad Aamir.pdf\", 'rb'),\n",
    "    purpose= 'assistants'\n",
    ")"
   ]
  },
  {
   "cell_type": "code",
   "execution_count": 57,
   "metadata": {},
   "outputs": [],
   "source": [
    "# 2. create asistant\n",
    "from openai.types.beta import Assistant\n",
    "\n",
    "assistant : Assistant = client.beta.assistants.create(\n",
    "    name = 'Student Support Assistant ',\n",
    "    instructions='You are a student support assistant. Please assist students in locating data within the provided knowledge base of Muhammad Aamir.pdf ',\n",
    "    tools=[{'type' : 'retrieval'}],\n",
    "    model='gpt-3.5-turbo-1106',\n",
    "    file_ids=[file.id]\n",
    ")"
   ]
  },
  {
   "cell_type": "code",
   "execution_count": 58,
   "metadata": {},
   "outputs": [],
   "source": [
    "# 3. Thread\n",
    "from openai.types.beta.thread import Thread\n",
    "\n",
    "thread : Thread = client.beta.threads.create()\n"
   ]
  },
  {
   "cell_type": "code",
   "execution_count": 59,
   "metadata": {},
   "outputs": [],
   "source": [
    "# 4.create threadd message \n",
    "from openai.types.beta.threads.thread_message import ThreadMessage\n",
    "\n",
    "message : ThreadMessage = client.beta.threads.messages.create(\n",
    "    thread_id=thread.id,\n",
    "    role='user',\n",
    "    content='please find the Education status of Muhammad Aamir.pdf',\n",
    "\n",
    ")"
   ]
  },
  {
   "cell_type": "code",
   "execution_count": 60,
   "metadata": {},
   "outputs": [],
   "source": [
    "# 5.run\n",
    "from openai.types.beta.threads.run import Run\n",
    "run: Run = client.beta.threads.runs.create(\n",
    "    thread_id=thread.id,\n",
    "    assistant_id=assistant.id,\n",
    "    instructions='please address this user as Altaf. He is student of PIAIC'\n",
    ")\n",
    "\n"
   ]
  },
  {
   "cell_type": "code",
   "execution_count": 61,
   "metadata": {},
   "outputs": [],
   "source": [
    "#6. Check the Stauts of run\n",
    "run : Run = client.beta.threads.runs.retrieve(\n",
    "    thread_id=thread.id,\n",
    "    run_id=run.id,\n",
    ") "
   ]
  },
  {
   "cell_type": "code",
   "execution_count": 63,
   "metadata": {},
   "outputs": [
    {
     "name": "stdout",
     "output_type": "stream",
     "text": [
      "user: please find the Education status of Muhammad Aamir.pdf\n",
      "assistant: Muhammad Aamir Azhar has the following education status:\n",
      "- Bachelor's degree in Engineering from Preston University, from September 2014 to August 2018\n",
      "- Associate's degree in Engineering from HIRA Polytechnic Institute, from September 2010 to August 2012\n",
      "- Secondary School Certificate in Computer Science from Govt. Comprehensive Boys High School, from August 2007 to August 2009\n",
      "\n",
      "Is there anything else you would like to know about Muhammad Aamir Azhar?\n"
     ]
    }
   ],
   "source": [
    "#7. print the response\n",
    "\n",
    "messages : list[ThreadMessage] = client.beta.threads.messages.list(\n",
    "    thread_id=thread.id,\n",
    ")\n",
    "\n",
    "for m in reversed(messages.data):\n",
    "    print(m.role + \": \"+ m.content[0].text.value)"
   ]
  }
 ],
 "metadata": {
  "kernelspec": {
   "display_name": "Python 3",
   "language": "python",
   "name": "python3"
  },
  "language_info": {
   "codemirror_mode": {
    "name": "ipython",
    "version": 3
   },
   "file_extension": ".py",
   "mimetype": "text/x-python",
   "name": "python",
   "nbconvert_exporter": "python",
   "pygments_lexer": "ipython3",
   "version": "3.11.7"
  }
 },
 "nbformat": 4,
 "nbformat_minor": 2
}
