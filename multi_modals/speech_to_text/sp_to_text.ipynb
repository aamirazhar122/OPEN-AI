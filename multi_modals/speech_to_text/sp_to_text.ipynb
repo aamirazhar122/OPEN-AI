{
 "cells": [
  {
   "cell_type": "code",
   "execution_count": 3,
   "metadata": {},
   "outputs": [
    {
     "data": {
      "text/plain": [
       "'پاکستان ایک خوبصورت ملک ہے۔\\n'"
      ]
     },
     "execution_count": 3,
     "metadata": {},
     "output_type": "execute_result"
    }
   ],
   "source": [
    "from openai import OpenAI\n",
    "client = OpenAI()\n",
    "\n",
    "audio_file = open('urdu.mp3', 'rb')\n",
    "transcript = client.audio.transcriptions.create(\n",
    "    model='whisper-1',\n",
    "    file=audio_file,\n",
    "    response_format = 'text'\n",
    ")\n",
    "transcript"
   ]
  },
  {
   "cell_type": "code",
   "execution_count": 5,
   "metadata": {},
   "outputs": [
    {
     "data": {
      "text/plain": [
       "Translation(text='Pakistan is a beautiful country.')"
      ]
     },
     "execution_count": 5,
     "metadata": {},
     "output_type": "execute_result"
    }
   ],
   "source": [
    "audio_file=open('urdu.mp3', \"rb\")\n",
    "transcript = client.audio.translations.create(\n",
    "    model='whisper-1',\n",
    "    file=audio_file,\n",
    "    \n",
    "\n",
    ")\n",
    "transcript"
   ]
  }
 ],
 "metadata": {
  "kernelspec": {
   "display_name": "Python 3",
   "language": "python",
   "name": "python3"
  },
  "language_info": {
   "codemirror_mode": {
    "name": "ipython",
    "version": 3
   },
   "file_extension": ".py",
   "mimetype": "text/x-python",
   "name": "python",
   "nbconvert_exporter": "python",
   "pygments_lexer": "ipython3",
   "version": "3.12.0"
  }
 },
 "nbformat": 4,
 "nbformat_minor": 2
}
