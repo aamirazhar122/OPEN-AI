{
 "cells": [
  {
   "cell_type": "markdown",
   "metadata": {},
   "source": [
    "# Text to Image"
   ]
  },
  {
   "cell_type": "code",
   "execution_count": 1,
   "metadata": {},
   "outputs": [],
   "source": [
    "from openai import OpenAI\n",
    "from dotenv import load_dotenv, find_dotenv\n",
    "\n",
    "_:bool = load_dotenv(find_dotenv())\n",
    "\n",
    "client : OpenAI = OpenAI()\n"
   ]
  },
  {
   "cell_type": "code",
   "execution_count": 2,
   "metadata": {},
   "outputs": [
    {
     "name": "stdout",
     "output_type": "stream",
     "text": [
      "https://oaidalleapiprodscus.blob.core.windows.net/private/org-auABviOCQR4aGn8X7zMYuyv1/user-VCIslPQQFnX8ruyFSHwn63X9/img-DtDMc2xqmzkgceMQKgtBesjS.png?st=2023-12-27T04%3A47%3A40Z&se=2023-12-27T06%3A47%3A40Z&sp=r&sv=2021-08-06&sr=b&rscd=inline&rsct=image/png&skoid=6aaadede-4fb3-4698-a8f6-684d7786b067&sktid=a48cca56-e6da-484e-a814-9c849652bcb3&skt=2023-12-26T20%3A44%3A02Z&ske=2023-12-27T20%3A44%3A02Z&sks=b&skv=2021-08-06&sig=tdOdQIXXwj%2ByO/iOWGj40zaPURe/NrMo3CvfZt47hAo%3D\n"
     ]
    }
   ],
   "source": [
    "file_name = 'image.png'\n",
    "response  = client.images.generate(\n",
    "    model='dall-e-2',\n",
    "    prompt='a shark fish playing with child ',\n",
    "    size='1024x1024',\n",
    "    quality='standard',\n",
    "    n=1,\n",
    "\n",
    ")\n",
    "\n",
    "image_url:str = response.data[0].url\n",
    "\n",
    "print(image_url)\n"
   ]
  },
  {
   "cell_type": "code",
   "execution_count": 4,
   "metadata": {},
   "outputs": [
    {
     "ename": "ModuleNotFoundError",
     "evalue": "No module named 'requests'",
     "output_type": "error",
     "traceback": [
      "\u001b[1;31m---------------------------------------------------------------------------\u001b[0m",
      "\u001b[1;31mModuleNotFoundError\u001b[0m                       Traceback (most recent call last)",
      "Cell \u001b[1;32mIn[4], line 1\u001b[0m\n\u001b[1;32m----> 1\u001b[0m \u001b[38;5;28;01mimport\u001b[39;00m \u001b[38;5;21;01mrequests\u001b[39;00m\n\u001b[0;32m      2\u001b[0m \u001b[38;5;28;01mfrom\u001b[39;00m \u001b[38;5;21;01mPIL\u001b[39;00m \u001b[38;5;28;01mimport\u001b[39;00m Image\n\u001b[0;32m      4\u001b[0m response \u001b[38;5;241m=\u001b[39m requests\u001b[38;5;241m.\u001b[39mget(image_url)\n",
      "\u001b[1;31mModuleNotFoundError\u001b[0m: No module named 'requests'"
     ]
    }
   ],
   "source": [
    "import requests\n",
    "from PIL import Image\n",
    "\n",
    "response = requests.get(image_url)\n",
    "\n",
    "# save image to file    \n",
    "with open(file_name, 'wb') as f:\n",
    "    f.write(response.content)\n",
    "\n",
    "# open image\n",
    "image:Image = Image.open(file_name)\n",
    "image.show()"
   ]
  },
  {
   "cell_type": "code",
   "execution_count": 5,
   "metadata": {},
   "outputs": [
    {
     "name": "stdout",
     "output_type": "stream",
     "text": [
      "https://oaidalleapiprodscus.blob.core.windows.net/private/org-auABviOCQR4aGn8X7zMYuyv1/user-VCIslPQQFnX8ruyFSHwn63X9/img-VfYuLrJ6W2VjutZu5m6FdWGX.png?st=2023-12-27T04%3A49%3A32Z&se=2023-12-27T06%3A49%3A32Z&sp=r&sv=2021-08-06&sr=b&rscd=inline&rsct=image/png&skoid=6aaadede-4fb3-4698-a8f6-684d7786b067&sktid=a48cca56-e6da-484e-a814-9c849652bcb3&skt=2023-12-26T22%3A07%3A35Z&ske=2023-12-27T22%3A07%3A35Z&sks=b&skv=2021-08-06&sig=QbVeNraFgRckL5Wb%2Bls9j/h2IOdx62zQR97/x2OTgug%3D\n"
     ]
    }
   ],
   "source": [
    "file_name:str = 'img.png'\n",
    "\n",
    "response = client.images.generate(\n",
    "    model='dall-e-2',\n",
    "    prompt='a duck in water with her babies',\n",
    "    size='1024x1024',\n",
    "    quality='standard',\n",
    "    n=2,\n",
    "\n",
    ")\n",
    "image_url:str  = response.data[0].url\n",
    "\n",
    "print(image_url)"
   ]
  },
  {
   "cell_type": "code",
   "execution_count": 6,
   "metadata": {},
   "outputs": [
    {
     "ename": "ModuleNotFoundError",
     "evalue": "No module named 'requests'",
     "output_type": "error",
     "traceback": [
      "\u001b[1;31m---------------------------------------------------------------------------\u001b[0m",
      "\u001b[1;31mModuleNotFoundError\u001b[0m                       Traceback (most recent call last)",
      "Cell \u001b[1;32mIn[6], line 1\u001b[0m\n\u001b[1;32m----> 1\u001b[0m \u001b[38;5;28;01mimport\u001b[39;00m \u001b[38;5;21;01mrequests\u001b[39;00m\n\u001b[0;32m      2\u001b[0m \u001b[38;5;66;03m# save the file\u001b[39;00m\n\u001b[0;32m      3\u001b[0m response \u001b[38;5;241m=\u001b[39m requests\u001b[38;5;241m.\u001b[39mget(image_url)\n",
      "\u001b[1;31mModuleNotFoundError\u001b[0m: No module named 'requests'"
     ]
    }
   ],
   "source": [
    "import requests\n",
    "# save the file\n",
    "response = requests.get(image_url)\n",
    "with open(file_name, 'wb')as f:\n",
    "    f.write(response.content)\n",
    "\n",
    "# show the file\n",
    "    image:Image = Image.open(file_name)\n",
    "    image.show()"
   ]
  }
 ],
 "metadata": {
  "kernelspec": {
   "display_name": "Python 3",
   "language": "python",
   "name": "python3"
  },
  "language_info": {
   "codemirror_mode": {
    "name": "ipython",
    "version": 3
   },
   "file_extension": ".py",
   "mimetype": "text/x-python",
   "name": "python",
   "nbconvert_exporter": "python",
   "pygments_lexer": "ipython3",
   "version": "3.12.0"
  }
 },
 "nbformat": 4,
 "nbformat_minor": 2
}
